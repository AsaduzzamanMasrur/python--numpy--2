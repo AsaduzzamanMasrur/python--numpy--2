{
  "nbformat": 4,
  "nbformat_minor": 0,
  "metadata": {
    "colab": {
      "provenance": []
    },
    "kernelspec": {
      "name": "python3",
      "display_name": "Python 3"
    },
    "language_info": {
      "name": "python"
    }
  },
  "cells": [
    {
      "cell_type": "code",
      "execution_count": null,
      "metadata": {
        "id": "B1fAG4E8Yiv3"
      },
      "outputs": [],
      "source": [
        "import numpy as np"
      ]
    },
    {
      "cell_type": "code",
      "source": [
        "np.arange(6,78,6)"
      ],
      "metadata": {
        "colab": {
          "base_uri": "https://localhost:8080/"
        },
        "id": "C-5aMkOxeo4k",
        "outputId": "b2322eaf-94cc-4c90-d46b-e605570f2ad6"
      },
      "execution_count": null,
      "outputs": [
        {
          "output_type": "execute_result",
          "data": {
            "text/plain": [
              "array([ 6, 12, 18, 24, 30, 36, 42, 48, 54, 60, 66, 72])"
            ]
          },
          "metadata": {},
          "execution_count": 5
        }
      ]
    },
    {
      "cell_type": "code",
      "source": [
        "np.arange()"
      ],
      "metadata": {
        "id": "2od2klchemLH"
      },
      "execution_count": null,
      "outputs": []
    },
    {
      "cell_type": "markdown",
      "source": [
        "1. Write a function that asks the user for dimentions of a matrix of integer numbers as well as the range of the numbers and creates it:"
      ],
      "metadata": {
        "id": "Mk2oMLA0cY_2"
      }
    },
    {
      "cell_type": "code",
      "source": [
        "def func_1():\n",
        "  r=int(input(' What is row size do you want?'))\n",
        "  c=int(input('What col size do you want?'))\n",
        "  mini=int(input('Whats your minimum range'))\n",
        "  maxi=int(input('Whats your minimum range'))\n",
        "\n",
        "  mat=np.random.randint(r,c,(mini,maxi))\n",
        "\n",
        "  return(mat)\n",
        "\n"
      ],
      "metadata": {
        "id": "mY0KncC1cj1h"
      },
      "execution_count": null,
      "outputs": []
    },
    {
      "cell_type": "markdown",
      "source": [
        "2. Repeat exercise 1, but without user input"
      ],
      "metadata": {
        "id": "pHV5B0H0eG5E"
      }
    },
    {
      "cell_type": "code",
      "source": [
        "def func_2(r,c,mini,maxi):\n",
        "  mat=np.random.randint(r,c,(mini,maxi))\n",
        "\n",
        "  return(mat)\n"
      ],
      "metadata": {
        "id": "ETrpuD1Zee-D"
      },
      "execution_count": null,
      "outputs": []
    },
    {
      "cell_type": "markdown",
      "source": [
        "3. Repeat exercise 2, but this time, have the matrix saved in memory"
      ],
      "metadata": {
        "id": "Jp2FrURaezIk"
      }
    },
    {
      "cell_type": "code",
      "source": [
        "\n",
        "def func_3(r,c,mini,maxi):\n",
        "  mat=np.random.randint(r,c,(mini,maxi))\n",
        "\n",
        "  return(mat)\n",
        "  #print(mat)\n",
        "\n"
      ],
      "metadata": {
        "id": "jktAOkdsezAl"
      },
      "execution_count": null,
      "outputs": []
    },
    {
      "cell_type": "code",
      "source": [
        "k=func_3(3,5,3,10)"
      ],
      "metadata": {
        "id": "3N7IeXJZfIB8"
      },
      "execution_count": null,
      "outputs": []
    },
    {
      "cell_type": "code",
      "source": [
        "k"
      ],
      "metadata": {
        "colab": {
          "base_uri": "https://localhost:8080/"
        },
        "id": "BVXfdm-5fMAq",
        "outputId": "44af167f-b0f2-47ab-ec9f-ecf45689f72a"
      },
      "execution_count": null,
      "outputs": [
        {
          "output_type": "execute_result",
          "data": {
            "text/plain": [
              "array([[4, 4, 3, 3, 3, 3, 3, 4, 3, 3],\n",
              "       [4, 4, 4, 3, 3, 4, 3, 3, 3, 3],\n",
              "       [3, 4, 4, 3, 3, 3, 3, 3, 3, 4]])"
            ]
          },
          "metadata": {},
          "execution_count": 42
        }
      ]
    },
    {
      "cell_type": "code",
      "source": [
        "type(k)"
      ],
      "metadata": {
        "colab": {
          "base_uri": "https://localhost:8080/"
        },
        "id": "rTd8iXQwg6nb",
        "outputId": "4d0e05db-277b-463c-fbd6-02855cf4cb2b"
      },
      "execution_count": null,
      "outputs": [
        {
          "output_type": "execute_result",
          "data": {
            "text/plain": [
              "numpy.ndarray"
            ]
          },
          "metadata": {},
          "execution_count": 43
        }
      ]
    },
    {
      "cell_type": "markdown",
      "source": [
        "4. Write a function that takes in a SQUARE matrix, otherwise, report not valid, then reports on its shape, and outputs the diagonal elements of the matrix"
      ],
      "metadata": {
        "id": "-3SvnhXKfHQs"
      }
    },
    {
      "cell_type": "code",
      "source": [
        "def func_4(mat):\n",
        "    r,c=mat.shape\n",
        "    k=[]\n",
        "    if r==c:\n",
        "      for i in range (r):\n",
        "        k.append(mat[i,i])\n",
        "      return(k)\n",
        "\n",
        "    else:\n",
        "      print('Wrong Shape')\n",
        "\n",
        "\n",
        "\n",
        "\n",
        "\n"
      ],
      "metadata": {
        "id": "17GhBifqk0P5"
      },
      "execution_count": null,
      "outputs": []
    },
    {
      "cell_type": "code",
      "source": [
        "d=np.random.randint(0,10,(6,6))"
      ],
      "metadata": {
        "id": "TJ1rYFgFpRoY"
      },
      "execution_count": null,
      "outputs": []
    },
    {
      "cell_type": "code",
      "source": [
        "d"
      ],
      "metadata": {
        "colab": {
          "base_uri": "https://localhost:8080/"
        },
        "id": "E4eMHJh5qVT4",
        "outputId": "7f109ce7-726d-400d-d532-5f9d76d94358"
      },
      "execution_count": null,
      "outputs": [
        {
          "output_type": "execute_result",
          "data": {
            "text/plain": [
              "array([[5, 9, 4, 6, 4, 5],\n",
              "       [7, 6, 8, 6, 2, 8],\n",
              "       [1, 4, 9, 9, 6, 7],\n",
              "       [0, 6, 2, 1, 2, 5],\n",
              "       [1, 2, 0, 9, 2, 2],\n",
              "       [1, 8, 4, 6, 7, 2]])"
            ]
          },
          "metadata": {},
          "execution_count": 113
        }
      ]
    },
    {
      "cell_type": "code",
      "source": [
        "func_4(d)"
      ],
      "metadata": {
        "colab": {
          "base_uri": "https://localhost:8080/"
        },
        "id": "6SpZK0iUqRhw",
        "outputId": "70426fd9-66ab-4618-dc28-c105a5549533"
      },
      "execution_count": null,
      "outputs": [
        {
          "output_type": "execute_result",
          "data": {
            "text/plain": [
              "[5, 6, 9, 1, 2, 2]"
            ]
          },
          "metadata": {},
          "execution_count": 112
        }
      ]
    },
    {
      "cell_type": "markdown",
      "source": [
        "Alternatively"
      ],
      "metadata": {
        "id": "NB0tJhc_qdOI"
      }
    },
    {
      "cell_type": "code",
      "source": [
        "def func_4(mat):\n",
        "    print(mat.shape)\n",
        "    return np.diag(mat)"
      ],
      "metadata": {
        "id": "PI3eiuEvseXP"
      },
      "execution_count": null,
      "outputs": []
    },
    {
      "cell_type": "markdown",
      "source": [
        "5. Write a function that takes in a list of numbers and creates a matrix which has these values in its diagonal and value of 5 in all other positions"
      ],
      "metadata": {
        "id": "YEoZvWtUid-y"
      }
    },
    {
      "cell_type": "code",
      "source": [
        "def func_5(dia):\n",
        "  l=len(dia)\n",
        "\n",
        "  dia=np.array(dia)\n",
        "\n",
        "  mat=np.zeros([l,l])+5\n",
        "\n",
        "  for i in range (mat.shape[0]):\n",
        "    mat[i,i]=dia[i]\n",
        "\n",
        "  return (mat)\n"
      ],
      "metadata": {
        "id": "XIV6-ciQkcKh"
      },
      "execution_count": null,
      "outputs": []
    },
    {
      "cell_type": "code",
      "source": [
        "func_5([2,4,6])"
      ],
      "metadata": {
        "colab": {
          "base_uri": "https://localhost:8080/"
        },
        "id": "Vzar8L2zsB8n",
        "outputId": "946478a0-5e2c-4cec-c243-55c60b75b34f"
      },
      "execution_count": null,
      "outputs": [
        {
          "output_type": "execute_result",
          "data": {
            "text/plain": [
              "array([[2., 5., 5.],\n",
              "       [5., 4., 5.],\n",
              "       [5., 5., 6.]])"
            ]
          },
          "metadata": {},
          "execution_count": 130
        }
      ]
    },
    {
      "cell_type": "markdown",
      "source": [
        "##Alternatively"
      ],
      "metadata": {
        "id": "Js0BCFJ0vo-g"
      }
    },
    {
      "cell_type": "code",
      "source": [
        "np.diag([2,4,6])"
      ],
      "metadata": {
        "colab": {
          "base_uri": "https://localhost:8080/"
        },
        "id": "dpILwASFvrcn",
        "outputId": "d53533e6-bda5-496a-d4ed-f424d04f4100"
      },
      "execution_count": null,
      "outputs": [
        {
          "output_type": "execute_result",
          "data": {
            "text/plain": [
              "array([[2, 0, 0],\n",
              "       [0, 4, 0],\n",
              "       [0, 0, 6]])"
            ]
          },
          "metadata": {},
          "execution_count": 151
        }
      ]
    },
    {
      "cell_type": "markdown",
      "source": [
        "6. Write a function, that performs a dot product between to vectors"
      ],
      "metadata": {
        "id": "_Ag8uliDq9CE"
      }
    },
    {
      "cell_type": "code",
      "source": [
        "def funci_6(a,b):\n",
        "\n",
        "  if a.shape[0]==b.shape[0]:\n",
        "     k=[]\n",
        "\n",
        "     for i in range(a.shape[0]):\n",
        "       temp=a[i]*b[i]\n",
        "\n",
        "       k.append(temp)\n",
        "\n",
        "     return (sum(k))\n",
        "\n",
        "  else:\n",
        "\n",
        "    print('out of shape')\n",
        "\n",
        "\n",
        "\n",
        "\n"
      ],
      "metadata": {
        "id": "L5kPwPRBrhRE"
      },
      "execution_count": null,
      "outputs": []
    },
    {
      "cell_type": "code",
      "source": [
        "vec_1=np.array([9,2,3,4,6])\n",
        "\n",
        "vec_2=np.array([1,3,9,5,6])"
      ],
      "metadata": {
        "id": "Ua3rnF4pu2Ne"
      },
      "execution_count": null,
      "outputs": []
    },
    {
      "cell_type": "code",
      "source": [
        "funci_6(vec_1,vec_2)"
      ],
      "metadata": {
        "colab": {
          "base_uri": "https://localhost:8080/"
        },
        "id": "hEug0Jkku_dW",
        "outputId": "ff2671b5-9898-4ae6-959a-b54e2ca8ec65"
      },
      "execution_count": null,
      "outputs": [
        {
          "output_type": "execute_result",
          "data": {
            "text/plain": [
              "98"
            ]
          },
          "metadata": {},
          "execution_count": 149
        }
      ]
    },
    {
      "cell_type": "markdown",
      "source": [
        "##Alternatively"
      ],
      "metadata": {
        "id": "_4sFNR6dvidF"
      }
    },
    {
      "cell_type": "code",
      "source": [
        "np.dot(vec_1,vec_2)"
      ],
      "metadata": {
        "colab": {
          "base_uri": "https://localhost:8080/"
        },
        "id": "z7SZl3_yvRU2",
        "outputId": "3f8b4424-b8a1-4809-cc29-8cea65d9d103"
      },
      "execution_count": null,
      "outputs": [
        {
          "output_type": "execute_result",
          "data": {
            "text/plain": [
              "98"
            ]
          },
          "metadata": {},
          "execution_count": 150
        }
      ]
    },
    {
      "cell_type": "code",
      "source": [],
      "metadata": {
        "id": "qGWlqzQfuUe2"
      },
      "execution_count": null,
      "outputs": []
    }
  ]
}